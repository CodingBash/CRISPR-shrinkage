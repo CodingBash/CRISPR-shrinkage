{
 "cells": [
  {
   "cell_type": "code",
   "execution_count": 956,
   "metadata": {},
   "outputs": [
    {
     "name": "stdout",
     "output_type": "stream",
     "text": [
      "2023-02-07 15:34:30,381 - crispr_shrinkage.framework.CrisprShrinkage - INFO - test\n",
      "2023-02-07 15:34:30,381 - crispr_shrinkage.framework.CrisprShrinkage - INFO - test\n",
      "2023-02-07 15:34:30,381 - crispr_shrinkage.framework.CrisprShrinkage - INFO - test\n",
      "2023-02-07 15:34:30,381 - crispr_shrinkage.framework.CrisprShrinkage - INFO - test\n",
      "2023-02-07 15:34:30,381 - crispr_shrinkage.framework.CrisprShrinkage - INFO - test\n",
      "2023-02-07 15:34:30,381 - crispr_shrinkage.framework.CrisprShrinkage - INFO - test\n",
      "2023-02-07 15:34:30,381 - crispr_shrinkage.framework.CrisprShrinkage - INFO - test\n",
      "2023-02-07 15:34:30,381 - crispr_shrinkage.framework.CrisprShrinkage - INFO - test\n",
      "2023-02-07 15:34:30,381 - crispr_shrinkage.framework.CrisprShrinkage - INFO - test\n",
      "2023-02-07 15:34:30,381 - crispr_shrinkage.framework.CrisprShrinkage - INFO - test\n",
      "2023-02-07 15:34:30,381 - crispr_shrinkage.framework.CrisprShrinkage - INFO - test\n",
      "2023-02-07 15:34:30,381 - crispr_shrinkage.framework.CrisprShrinkage - INFO - test\n",
      "2023-02-07 15:34:30,381 - crispr_shrinkage.framework.CrisprShrinkage - INFO - test\n",
      "2023-02-07 15:34:30,381 - crispr_shrinkage.framework.CrisprShrinkage - INFO - test\n",
      "The autoreload extension is already loaded. To reload it, use:\n",
      "  %reload_ext autoreload\n"
     ]
    }
   ],
   "source": [
    "%load_ext autoreload\n",
    "%autoreload 2\n",
    "\n",
    "import crispr_shrinkage"
   ]
  },
  {
   "cell_type": "code",
   "execution_count": 957,
   "metadata": {},
   "outputs": [],
   "source": [
    "from scipy.stats import binom\n",
    "from scipy.stats import uniform\n",
    "from scipy.stats import expon\n",
    "import numpy as np \n",
    "\n",
    "null_proportion = 0.5\n",
    "positive_proportion = 0.6\n",
    "target_null_proportion = 0.5\n",
    "target_positive_population = 0.6\n",
    "\n",
    "num_ctrl_guides = 50\n",
    "num_pos_guides = 10\n",
    "\n",
    "reps = 3\n",
    "max_dup_factor = 20\n",
    "max_guide_molecule_factor = 200\n",
    "\n",
    "pop1_dup_factor_list = np.asarray([np.round(uniform.rvs(1, max_dup_factor)) for _ in range(reps)])\n",
    "pop2_dup_factor_list = np.asarray([np.round(uniform.rvs(1, max_dup_factor)) for _ in range(reps)])\n",
    "\n",
    "#expon.rvs(loc=1, scale=1000, size=num_guides)\n",
    "#uniform.rvs(2, 200, size=num_guides)\n",
    "def get_counts(num_guides, proportion):\n",
    "    pop1_list_reps = []\n",
    "    pop2_list_reps = []\n",
    "\n",
    "    for rep_i in range(reps):\n",
    "        n_list = np.round(uniform.rvs(2, max_guide_molecule_factor, size=num_guides)).astype(int)\n",
    "        pop1_list = binom.rvs(n_list, proportion, size=num_guides) \n",
    "        pop2_list = n_list - pop1_list\n",
    "\n",
    "        pop1_list_reps.append(pop1_list * pop1_dup_factor_list[rep_i])\n",
    "        pop2_list_reps.append(pop2_list * pop2_dup_factor_list[rep_i])\n",
    "    \n",
    "    return np.asarray(pop1_list_reps), np.asarray(pop2_list_reps)\n"
   ]
  },
  {
   "cell_type": "code",
   "execution_count": 958,
   "metadata": {},
   "outputs": [],
   "source": [
    "tiling_length = 100\n",
    "\n",
    "observation_guides = []\n",
    "for position in range(tiling_length):\n",
    "    counts = get_counts(1, target_null_proportion)\n",
    "    pop1_raw_count_reps = counts[0].transpose()[0] + 1\n",
    "    pop2_raw_count_reps = counts[1].transpose()[0] + 1\n",
    "    guide = crispr_shrinkage.Guide(identifier=\"observation_{}\".format(position), position=position, pop1_raw_count_reps= pop1_raw_count_reps, pop2_raw_count_reps=pop2_raw_count_reps)\n",
    "\n",
    "    observation_guides.append(guide)\n",
    "\n",
    "observation_guides = np.asarray(observation_guides)"
   ]
  },
  {
   "cell_type": "code",
   "execution_count": 959,
   "metadata": {},
   "outputs": [],
   "source": [
    "negative_guides = []\n",
    "for i in range(num_ctrl_guides):\n",
    "    counts = get_counts(1, null_proportion)\n",
    "    pop1_raw_count_reps = counts[0].transpose()[0] + 1\n",
    "    pop2_raw_count_reps = counts[1].transpose()[0] + 1\n",
    "    guide = crispr_shrinkage.Guide(identifier=\"negative_{}\".format(i), position=None, pop1_raw_count_reps= pop1_raw_count_reps, pop2_raw_count_reps=pop2_raw_count_reps)\n",
    "\n",
    "    negative_guides.append(guide)\n",
    "\n",
    "negative_guides = np.asarray(negative_guides)"
   ]
  },
  {
   "cell_type": "code",
   "execution_count": 960,
   "metadata": {},
   "outputs": [],
   "source": [
    "positive_guides = []\n",
    "for i in range(num_pos_guides):\n",
    "    counts = get_counts(1, positive_proportion)\n",
    "    pop1_raw_count_reps = counts[0].transpose()[0] + 1\n",
    "    pop2_raw_count_reps = counts[1].transpose()[0] + 1\n",
    "    guide = crispr_shrinkage.Guide(identifier=\"positive_{}\".format(i), position=None, pop1_raw_count_reps= pop1_raw_count_reps, pop2_raw_count_reps=pop2_raw_count_reps)\n",
    "\n",
    "    positive_guides.append(guide)\n",
    "\n",
    "positive_guides = np.asarray(positive_guides)"
   ]
  },
  {
   "cell_type": "code",
   "execution_count": 961,
   "metadata": {},
   "outputs": [
    {
     "data": {
      "text/plain": [
       "Decimal('100')"
      ]
     },
     "execution_count": 961,
     "metadata": {},
     "output_type": "execute_result"
    }
   ],
   "source": [
    " from decimal import *\n",
    " getcontext().prec = 100\n",
    " Decimal(100)"
   ]
  },
  {
   "cell_type": "code",
   "execution_count": 962,
   "metadata": {},
   "outputs": [
    {
     "data": {
      "text/plain": [
       "0.1"
      ]
     },
     "execution_count": 962,
     "metadata": {},
     "output_type": "execute_result"
    }
   ],
   "source": [
    "sc.beta(10,1)"
   ]
  },
  {
   "cell_type": "code",
   "execution_count": 963,
   "metadata": {},
   "outputs": [],
   "source": [
    "def precise_gamma(num) -> Decimal:\n",
    "    return np.exp(Decimal(sc.gammaln(num)))"
   ]
  },
  {
   "cell_type": "code",
   "execution_count": 964,
   "metadata": {},
   "outputs": [],
   "source": [
    "def precise_beta(a, b):\n",
    "    return (precise_gamma(a)*precise_gamma(b))/(precise_gamma(a+b))"
   ]
  },
  {
   "cell_type": "code",
   "execution_count": 965,
   "metadata": {},
   "outputs": [
    {
     "data": {
      "text/plain": [
       "0.0"
      ]
     },
     "execution_count": 965,
     "metadata": {},
     "output_type": "execute_result"
    }
   ],
   "source": [
    "sc.beta(537, 537)/sc.beta(10, 10)"
   ]
  },
  {
   "cell_type": "code",
   "execution_count": 966,
   "metadata": {},
   "outputs": [
    {
     "data": {
      "text/plain": [
       "6.98347e-319"
      ]
     },
     "execution_count": 966,
     "metadata": {},
     "output_type": "execute_result"
    }
   ],
   "source": [
    "float(precise_beta(537, 537)/precise_beta(10, 10))"
   ]
  },
  {
   "cell_type": "code",
   "execution_count": 1032,
   "metadata": {},
   "outputs": [],
   "source": [
    "import scipy\n",
    "import functools\n",
    "nc_high = 1200\n",
    "nc_low = 1300\n",
    "k_h = 13\n",
    "k_l = 8\n",
    "\n",
    "def KL_optim(test, params):\n",
    "    nc_weight, k_weight = params \n",
    "    print(params)\n",
    "    return crispr_shrinkage.StatisticalHelperMethods.KL_beta(31.0, 26.0, (nc_weight*nc_high) + (k_weight * k_h), (nc_weight*nc_low) + (k_weight * k_l))\n",
    "\n",
    "res = scipy.optimize.minimize(functools.partial(KL_optim, \"1\"), [1, 1], method = 'TNC', bounds=((0, np.inf),(0, np.inf)))"
   ]
  },
  {
   "cell_type": "code",
   "execution_count": 1031,
   "metadata": {},
   "outputs": [
    {
     "data": {
      "text/plain": [
       " message: Converged (|f_n-f_(n-1)| ~= 0)\n",
       " success: True\n",
       "  status: 1\n",
       "     fun: 2.4425003361007447e-11\n",
       "       x: [ 1.233e-02  1.247e+00]\n",
       "     nit: 8\n",
       "     jac: [ 1.099e-06 -4.764e-07]\n",
       "    nfev: 96"
      ]
     },
     "execution_count": 1031,
     "metadata": {},
     "output_type": "execute_result"
    }
   ],
   "source": [
    "res"
   ]
  },
  {
   "cell_type": "code",
   "execution_count": 1023,
   "metadata": {},
   "outputs": [
    {
     "name": "stdout",
     "output_type": "stream",
     "text": [
      "[0.01232871 1.24656011]\n"
     ]
    },
    {
     "data": {
      "text/plain": [
       "2.4425003361007447e-11"
      ]
     },
     "execution_count": 1023,
     "metadata": {},
     "output_type": "execute_result"
    }
   ],
   "source": [
    "KL_optim(res.x)"
   ]
  },
  {
   "cell_type": "code",
   "execution_count": 976,
   "metadata": {},
   "outputs": [
    {
     "data": {
      "text/plain": [
       "2.53971408061148"
      ]
     },
     "execution_count": 976,
     "metadata": {},
     "output_type": "execute_result"
    }
   ],
   "source": [
    "crispr_shrinkage.StatisticalHelperMethods.KL_beta(31.0, 26.0, 24, 36)"
   ]
  },
  {
   "cell_type": "code",
   "execution_count": 971,
   "metadata": {},
   "outputs": [],
   "source": [
    "alpha_f, beta_f, alpha_g, beta_g = (31.0, 26.076923076923077, 310, 260)"
   ]
  },
  {
   "cell_type": "code",
   "execution_count": 972,
   "metadata": {},
   "outputs": [
    {
     "data": {
      "text/plain": [
       "Decimal('-354.7024313268700765888752357568591833114624023437500000000000000000000000000000000000000000000000000')"
      ]
     },
     "execution_count": 972,
     "metadata": {},
     "output_type": "execute_result"
    }
   ],
   "source": [
    "Decimal.ln(crispr_shrinkage.StatisticalHelperMethods.precise_beta(alpha_g, beta_g)/(crispr_shrinkage.StatisticalHelperMethods.precise_beta(alpha_f, beta_f)))"
   ]
  },
  {
   "cell_type": "code",
   "execution_count": null,
   "metadata": {},
   "outputs": [],
   "source": []
  },
  {
   "cell_type": "code",
   "execution_count": 970,
   "metadata": {},
   "outputs": [
    {
     "data": {
      "image/png": "[encoded data removed]",
      "text/plain": [
       "<Figure size 640x480 with 1 Axes>"
      ]
     },
     "metadata": {},
     "output_type": "display_data"
    },
    {
     "name": "stdout",
     "output_type": "stream",
     "text": [
      "2023-02-07 15:35:09,612 - crispr_shrinkage.framework.CrisprShrinkage - INFO - Selected imputation prior weights: [[0. 0. 0.]\n",
      " [0. 0. 0.]\n",
      " [0. 0. 0.]]\n",
      "2023-02-07 15:35:09,612 - crispr_shrinkage.framework.CrisprShrinkage - INFO - Selected imputation prior weights: [[0. 0. 0.]\n",
      " [0. 0. 0.]\n",
      " [0. 0. 0.]]\n",
      "2023-02-07 15:35:09,612 - crispr_shrinkage.framework.CrisprShrinkage - INFO - Selected imputation prior weights: [[0. 0. 0.]\n",
      " [0. 0. 0.]\n",
      " [0. 0. 0.]]\n",
      "2023-02-07 15:35:09,612 - crispr_shrinkage.framework.CrisprShrinkage - INFO - Selected imputation prior weights: [[0. 0. 0.]\n",
      " [0. 0. 0.]\n",
      " [0. 0. 0.]]\n",
      "2023-02-07 15:35:09,612 - crispr_shrinkage.framework.CrisprShrinkage - INFO - Selected imputation prior weights: [[0. 0. 0.]\n",
      " [0. 0. 0.]\n",
      " [0. 0. 0.]]\n",
      "2023-02-07 15:35:09,612 - crispr_shrinkage.framework.CrisprShrinkage - INFO - Selected imputation prior weights: [[0. 0. 0.]\n",
      " [0. 0. 0.]\n",
      " [0. 0. 0.]]\n",
      "2023-02-07 15:35:09,612 - crispr_shrinkage.framework.CrisprShrinkage - INFO - Selected imputation prior weights: [[0. 0. 0.]\n",
      " [0. 0. 0.]\n",
      " [0. 0. 0.]]\n",
      "2023-02-07 15:35:09,612 - crispr_shrinkage.framework.CrisprShrinkage - INFO - Selected imputation prior weights: [[0. 0. 0.]\n",
      " [0. 0. 0.]\n",
      " [0. 0. 0.]]\n",
      "2023-02-07 15:35:09,612 - crispr_shrinkage.framework.CrisprShrinkage - INFO - Selected imputation prior weights: [[0. 0. 0.]\n",
      " [0. 0. 0.]\n",
      " [0. 0. 0.]]\n",
      "2023-02-07 15:35:09,612 - crispr_shrinkage.framework.CrisprShrinkage - INFO - Selected imputation prior weights: [[0. 0. 0.]\n",
      " [0. 0. 0.]\n",
      " [0. 0. 0.]]\n",
      "2023-02-07 15:35:09,612 - crispr_shrinkage.framework.CrisprShrinkage - INFO - Selected imputation prior weights: [[0. 0. 0.]\n",
      " [0. 0. 0.]\n",
      " [0. 0. 0.]]\n",
      "2023-02-07 15:35:09,612 - crispr_shrinkage.framework.CrisprShrinkage - INFO - Selected imputation prior weights: [[0. 0. 0.]\n",
      " [0. 0. 0.]\n",
      " [0. 0. 0.]]\n",
      "2023-02-07 15:35:09,612 - crispr_shrinkage.framework.CrisprShrinkage - INFO - Selected imputation prior weights: [[0. 0. 0.]\n",
      " [0. 0. 0.]\n",
      " [0. 0. 0.]]\n",
      "2023-02-07 15:35:09,612 - crispr_shrinkage.framework.CrisprShrinkage - INFO - Selected imputation prior weights: [[0. 0. 0.]\n",
      " [0. 0. 0.]\n",
      " [0. 0. 0.]]\n"
     ]
    },
    {
     "ename": "ValueError",
     "evalue": "Domain error in arguments. The `scale` parameter must be positive for all distributions, and many distributions have restrictions on shape parameters. Please see the `scipy.stats.beta` documentation for details.",
     "output_type": "error",
     "traceback": [
      "\u001b[1;31m---------------------------------------------------------------------------\u001b[0m",
      "\u001b[1;31mValueError\u001b[0m                                Traceback (most recent call last)",
      "Cell \u001b[1;32mIn[970], line 1\u001b[0m\n\u001b[1;32m----> 1\u001b[0m crispr_shrinkage\u001b[39m.\u001b[39;49mperform_adjustment(\n\u001b[0;32m      2\u001b[0m     negative_control_guides \u001b[39m=\u001b[39;49m negative_guides,\n\u001b[0;32m      3\u001b[0m     positive_control_guides \u001b[39m=\u001b[39;49m positive_guides,\n\u001b[0;32m      4\u001b[0m     observation_guides \u001b[39m=\u001b[39;49m observation_guides,\n\u001b[0;32m      5\u001b[0m     num_replicates \u001b[39m=\u001b[39;49m reps,\n\u001b[0;32m      6\u001b[0m     include_observational_guides_in_fit \u001b[39m=\u001b[39;49m \u001b[39mTrue\u001b[39;49;00m,\n\u001b[0;32m      7\u001b[0m     include_positive_control_guides_in_fit \u001b[39m=\u001b[39;49m \u001b[39mFalse\u001b[39;49;00m,\n\u001b[0;32m      8\u001b[0m     pop1_amplification_factors \u001b[39m=\u001b[39;49m pop1_dup_factor_list,\n\u001b[0;32m      9\u001b[0m     pop2_amplification_factors \u001b[39m=\u001b[39;49m pop2_dup_factor_list,\n\u001b[0;32m     10\u001b[0m     monte_carlo_trials \u001b[39m=\u001b[39;49m \u001b[39m1000\u001b[39;49m,\n\u001b[0;32m     11\u001b[0m     enable_spatial_prior \u001b[39m=\u001b[39;49m  \u001b[39mTrue\u001b[39;49;00m,\n\u001b[0;32m     12\u001b[0m     spatial_bandwidth \u001b[39m=\u001b[39;49m \u001b[39m3\u001b[39;49m,\n\u001b[0;32m     13\u001b[0m     spatial_imputation_prior_strength \u001b[39m=\u001b[39;49m \u001b[39mNone\u001b[39;49;00m, \u001b[39m# This could be optimized by maximizing correlation of guide with neighborhood (perhaps in binomial GLM fashion?),\u001b[39;49;00m\n\u001b[0;32m     14\u001b[0m     baseline_proportion \u001b[39m=\u001b[39;49m \u001b[39m0.5\u001b[39;49m, \u001b[39m# TODO: Perform validation between (0,1), also accept None value for perfrming no normalization (or have that be another argument)\u001b[39;49;00m\n\u001b[0;32m     15\u001b[0m     shrinkage_prior_strength \u001b[39m=\u001b[39;49m \u001b[39mNone\u001b[39;49;00m, \n\u001b[0;32m     16\u001b[0m     posterior_estimator \u001b[39m=\u001b[39;49m \u001b[39m\"\u001b[39;49m\u001b[39mmean\u001b[39;49m\u001b[39m\"\u001b[39;49m,\n\u001b[0;32m     17\u001b[0m     random_seed \u001b[39m=\u001b[39;49m \u001b[39m234\u001b[39;49m\n\u001b[0;32m     18\u001b[0m     )\n",
      "File \u001b[1;32m~\\Documents\\Git-Projects\\Git-Research-Software-Projects\\crispr\\crispr-shrinkage\\crispr_shrinkage\\crispr_shrinkage\\framework\\CrisprShrinkage.py:443\u001b[0m, in \u001b[0;36mperform_adjustment\u001b[1;34m(negative_control_guides, positive_control_guides, observation_guides, num_replicates, include_observational_guides_in_fit, include_positive_control_guides_in_fit, pop1_amplification_factors, pop2_amplification_factors, monte_carlo_trials, enable_spatial_prior, spatial_bandwidth, spatial_imputation_prior_strength, baseline_proportion, shrinkage_prior_strength, posterior_estimator, random_seed)\u001b[0m\n\u001b[0;32m    440\u001b[0m     logger\u001b[39m.\u001b[39mdebug(\u001b[39m\"\u001b[39m\u001b[39mOptimize shrinkage prior weight...\u001b[39m\u001b[39m\"\u001b[39m)\n\u001b[0;32m    441\u001b[0m     \u001b[39m# NOTE: Here, we will be using selected guides for fit since the heteroscedasticity statistic may be biased towards positive effect guides.\u001b[39;00m\n\u001b[1;32m--> 443\u001b[0m     shrinkage_prior_strength \u001b[39m=\u001b[39m optimize_score_shrinkage_prior_strength(guides_for_fit, all_guides, num_replicates, negative_control_guide_pop1_total_normalized_counts_reps, negative_control_guide_pop2_total_normalized_counts_reps, enable_spatial_prior, spatial_imputation_prior_strength, baseline_proportion, spatial_bandwidth, monte_carlo_trials, random_seed, max_shrinkage_prior_strength_tested \u001b[39m=\u001b[39;49m \u001b[39m100\u001b[39;49m, shrinkage_prior_tuning_attempts \u001b[39m=\u001b[39;49m \u001b[39m100\u001b[39;49m)\n\u001b[0;32m    445\u001b[0m     \u001b[39m# LEFTOFF: Just finished draft of selecting shrinkage prior weight. Next, move to function and proceed with calling the selection to run final model to get final posterior, then get the averaged posterior, calculating the MAP (or mean), and return. id probably say the mean is best if there is equal trust in all replicates, if there is not, then mode since any outlier density in the averaged posterior (due to the outlier replicate) will not influence the mode as much. It could be a nice quality control metric to show the concordance of each replicates posterior distribution.l\u001b[39;00m\n\u001b[0;32m    446\u001b[0m \n\u001b[0;32m    447\u001b[0m \u001b[39m# Perform final model inference:\u001b[39;00m\n\u001b[0;32m    448\u001b[0m \u001b[39mfor\u001b[39;00m each_guide \u001b[39min\u001b[39;00m all_guides:\n\u001b[0;32m    449\u001b[0m     \u001b[39m# TODO: The code for calculating the posterior inputs for the spatial_imputation model could be modularized so that there are not any repetitive code\u001b[39;00m\n\u001b[0;32m    450\u001b[0m \n\u001b[0;32m    451\u001b[0m     \u001b[39m# By default, set the unweighted prior as the negative control normalized counts\u001b[39;00m\n",
      "File \u001b[1;32m~\\Documents\\Git-Projects\\Git-Research-Software-Projects\\crispr\\crispr-shrinkage\\crispr_shrinkage\\crispr_shrinkage\\framework\\CrisprShrinkage.py:195\u001b[0m, in \u001b[0;36moptimize_score_shrinkage_prior_strength\u001b[1;34m(guides_for_fit, all_guides, num_replicates, negative_control_guide_pop1_total_normalized_counts_reps, negative_control_guide_pop2_total_normalized_counts_reps, enable_spatial_prior, spatial_imputation_prior_strength, baseline_proportion, spatial_bandwidth, monte_carlo_trials, random_seed, max_shrinkage_prior_strength_tested, shrinkage_prior_tuning_attempts)\u001b[0m\n\u001b[0;32m    189\u001b[0m     unweighted_prior_alpha \u001b[39m=\u001b[39m imputation_posterior_alpha\n\u001b[0;32m    190\u001b[0m     unweighted_prior_beta \u001b[39m=\u001b[39m imputation_posterior_beta\n\u001b[1;32m--> 195\u001b[0m shrinkage_result: ShrinkageResult \u001b[39m=\u001b[39m perform_score_shrinkage(each_guide, negative_control_guide_pop1_total_normalized_counts_reps, negative_control_guide_pop2_total_normalized_counts_reps, shrinkage_prior_strength_test, unweighted_prior_alpha, unweighted_prior_beta, baseline_proportion,  monte_carlo_trials, random_seed, num_replicates)\n\u001b[0;32m    198\u001b[0m \u001b[39m#shrinkage_result.guide_count_beta_samples_normalized_list\u001b[39;00m\n\u001b[0;32m    199\u001b[0m \u001b[39m#shrinkage_result.guide_count_LFC_samples_normalized_list\u001b[39;00m\n\u001b[0;32m    200\u001b[0m \u001b[39m#shrinkage_result.guide_count_posterior_beta_samples_normalized_list\u001b[39;00m\n\u001b[0;32m    201\u001b[0m \n\u001b[0;32m    202\u001b[0m \u001b[39m# NOTE: List[List[float]], first list is each replicate, second list is the monte-carlo samples. We want the mean of the monte-carlo samples next\u001b[39;00m\n\u001b[0;32m    203\u001b[0m guide_count_posterior_LFC_samples_normalized_list: List[List[\u001b[39mfloat\u001b[39m]] \u001b[39m=\u001b[39m shrinkage_result\u001b[39m.\u001b[39mguide_count_posterior_LFC_samples_normalized_list \n",
      "File \u001b[1;32m~\\Documents\\Git-Projects\\Git-Research-Software-Projects\\crispr\\crispr-shrinkage\\crispr_shrinkage\\crispr_shrinkage\\framework\\CrisprShrinkage.py:128\u001b[0m, in \u001b[0;36mperform_score_shrinkage\u001b[1;34m(each_guide, negative_control_guide_pop1_total_normalized_counts_reps, negative_control_guide_pop2_total_normalized_counts_reps, shrinkage_prior_strength, unweighted_prior_alpha, unweighted_prior_beta, baseline_proportion, monte_carlo_trials, random_seed, num_replicates)\u001b[0m\n\u001b[0;32m    121\u001b[0m shrinkage_prior_beta \u001b[39m=\u001b[39m shrinkage_prior_strength \u001b[39m*\u001b[39m unweighted_prior_beta\n\u001b[0;32m    123\u001b[0m \u001b[39m#\u001b[39;00m\n\u001b[0;32m    124\u001b[0m \u001b[39m# Monte-Carlo sampling of beta distributions (i.e. conjugate priors and posterior distributions)\u001b[39;00m\n\u001b[0;32m    125\u001b[0m \u001b[39m#\u001b[39;00m\n\u001b[0;32m    126\u001b[0m \n\u001b[0;32m    127\u001b[0m \u001b[39m# This is for visualization of the prior\u001b[39;00m\n\u001b[1;32m--> 128\u001b[0m shrinkage_prior_beta_samples_list: List[List[\u001b[39mfloat\u001b[39m]] \u001b[39m=\u001b[39m np\u001b[39m.\u001b[39masarray([beta\u001b[39m.\u001b[39mrvs(shrinkage_prior_alpha[rep_i], shrinkage_prior_beta[rep_i], size\u001b[39m=\u001b[39mmonte_carlo_trials, random_state\u001b[39m=\u001b[39mrandom_seed) \u001b[39mfor\u001b[39;00m rep_i \u001b[39min\u001b[39;00m \u001b[39mrange\u001b[39m(num_replicates)])\n\u001b[0;32m    130\u001b[0m \u001b[39m# This is for visualization of the non-influenced data beta distribution\u001b[39;00m\n\u001b[0;32m    131\u001b[0m guide_count_beta_samples_list: List[List[\u001b[39mfloat\u001b[39m]] \u001b[39m=\u001b[39m np\u001b[39m.\u001b[39masarray([beta\u001b[39m.\u001b[39mrvs(each_guide\u001b[39m.\u001b[39mpop1_normalized_count_reps, each_guide\u001b[39m.\u001b[39mpop2_normalized_count_reps, size\u001b[39m=\u001b[39mmonte_carlo_trials, random_state\u001b[39m=\u001b[39mrandom_seed) \u001b[39mfor\u001b[39;00m rep_i \u001b[39min\u001b[39;00m \u001b[39mrange\u001b[39m(num_replicates)])\n",
      "File \u001b[1;32m~\\Documents\\Git-Projects\\Git-Research-Software-Projects\\crispr\\crispr-shrinkage\\crispr_shrinkage\\crispr_shrinkage\\framework\\CrisprShrinkage.py:128\u001b[0m, in \u001b[0;36m<listcomp>\u001b[1;34m(.0)\u001b[0m\n\u001b[0;32m    121\u001b[0m shrinkage_prior_beta \u001b[39m=\u001b[39m shrinkage_prior_strength \u001b[39m*\u001b[39m unweighted_prior_beta\n\u001b[0;32m    123\u001b[0m \u001b[39m#\u001b[39;00m\n\u001b[0;32m    124\u001b[0m \u001b[39m# Monte-Carlo sampling of beta distributions (i.e. conjugate priors and posterior distributions)\u001b[39;00m\n\u001b[0;32m    125\u001b[0m \u001b[39m#\u001b[39;00m\n\u001b[0;32m    126\u001b[0m \n\u001b[0;32m    127\u001b[0m \u001b[39m# This is for visualization of the prior\u001b[39;00m\n\u001b[1;32m--> 128\u001b[0m shrinkage_prior_beta_samples_list: List[List[\u001b[39mfloat\u001b[39m]] \u001b[39m=\u001b[39m np\u001b[39m.\u001b[39masarray([beta\u001b[39m.\u001b[39;49mrvs(shrinkage_prior_alpha[rep_i], shrinkage_prior_beta[rep_i], size\u001b[39m=\u001b[39;49mmonte_carlo_trials, random_state\u001b[39m=\u001b[39;49mrandom_seed) \u001b[39mfor\u001b[39;00m rep_i \u001b[39min\u001b[39;00m \u001b[39mrange\u001b[39m(num_replicates)])\n\u001b[0;32m    130\u001b[0m \u001b[39m# This is for visualization of the non-influenced data beta distribution\u001b[39;00m\n\u001b[0;32m    131\u001b[0m guide_count_beta_samples_list: List[List[\u001b[39mfloat\u001b[39m]] \u001b[39m=\u001b[39m np\u001b[39m.\u001b[39masarray([beta\u001b[39m.\u001b[39mrvs(each_guide\u001b[39m.\u001b[39mpop1_normalized_count_reps, each_guide\u001b[39m.\u001b[39mpop2_normalized_count_reps, size\u001b[39m=\u001b[39mmonte_carlo_trials, random_state\u001b[39m=\u001b[39mrandom_seed) \u001b[39mfor\u001b[39;00m rep_i \u001b[39min\u001b[39;00m \u001b[39mrange\u001b[39m(num_replicates)])\n",
      "File \u001b[1;32mc:\\Users\\bbece\\AppData\\Local\\pypoetry\\Cache\\virtualenvs\\crispr-shrinkage-qyTOZuOA-py3.8\\lib\\site-packages\\scipy\\stats\\_distn_infrastructure.py:1036\u001b[0m, in \u001b[0;36mrv_generic.rvs\u001b[1;34m(self, *args, **kwds)\u001b[0m\n\u001b[0;32m   1030\u001b[0m \u001b[39mif\u001b[39;00m \u001b[39mnot\u001b[39;00m np\u001b[39m.\u001b[39mall(cond):\n\u001b[0;32m   1031\u001b[0m     message \u001b[39m=\u001b[39m (\u001b[39m\"\u001b[39m\u001b[39mDomain error in arguments. The `scale` parameter must \u001b[39m\u001b[39m\"\u001b[39m\n\u001b[0;32m   1032\u001b[0m                \u001b[39m\"\u001b[39m\u001b[39mbe positive for all distributions, and many \u001b[39m\u001b[39m\"\u001b[39m\n\u001b[0;32m   1033\u001b[0m                \u001b[39m\"\u001b[39m\u001b[39mdistributions have restrictions on shape parameters. \u001b[39m\u001b[39m\"\u001b[39m\n\u001b[0;32m   1034\u001b[0m                \u001b[39mf\u001b[39m\u001b[39m\"\u001b[39m\u001b[39mPlease see the `scipy.stats.\u001b[39m\u001b[39m{\u001b[39;00m\u001b[39mself\u001b[39m\u001b[39m.\u001b[39mname\u001b[39m}\u001b[39;00m\u001b[39m` \u001b[39m\u001b[39m\"\u001b[39m\n\u001b[0;32m   1035\u001b[0m                \u001b[39m\"\u001b[39m\u001b[39mdocumentation for details.\u001b[39m\u001b[39m\"\u001b[39m)\n\u001b[1;32m-> 1036\u001b[0m     \u001b[39mraise\u001b[39;00m \u001b[39mValueError\u001b[39;00m(message)\n\u001b[0;32m   1038\u001b[0m \u001b[39mif\u001b[39;00m np\u001b[39m.\u001b[39mall(scale \u001b[39m==\u001b[39m \u001b[39m0\u001b[39m):\n\u001b[0;32m   1039\u001b[0m     \u001b[39mreturn\u001b[39;00m loc\u001b[39m*\u001b[39mones(size, \u001b[39m'\u001b[39m\u001b[39md\u001b[39m\u001b[39m'\u001b[39m)\n",
      "\u001b[1;31mValueError\u001b[0m: Domain error in arguments. The `scale` parameter must be positive for all distributions, and many distributions have restrictions on shape parameters. Please see the `scipy.stats.beta` documentation for details."
     ]
    }
   ],
   "source": [
    "crispr_shrinkage.perform_adjustment(\n",
    "    negative_control_guides = negative_guides,\n",
    "    positive_control_guides = positive_guides,\n",
    "    observation_guides = observation_guides,\n",
    "    num_replicates = reps,\n",
    "    include_observational_guides_in_fit = True,\n",
    "    include_positive_control_guides_in_fit = False,\n",
    "    pop1_amplification_factors = pop1_dup_factor_list,\n",
    "    pop2_amplification_factors = pop2_dup_factor_list,\n",
    "    monte_carlo_trials = 1000,\n",
    "    enable_spatial_prior =  True,\n",
    "    spatial_bandwidth = 3,\n",
    "    spatial_imputation_prior_strength = None, # This could be optimized by maximizing correlation of guide with neighborhood (perhaps in binomial GLM fashion?),\n",
    "    baseline_proportion = 0.5, # TODO: Perform validation between (0,1), also accept None value for perfrming no normalization (or have that be another argument)\n",
    "    shrinkage_prior_strength = None, \n",
    "    posterior_estimator = \"mean\",\n",
    "    random_seed = 234\n",
    "    )"
   ]
  },
  {
   "cell_type": "code",
   "execution_count": null,
   "metadata": {},
   "outputs": [],
   "source": []
  },
  {
   "cell_type": "code",
   "execution_count": null,
   "metadata": {},
   "outputs": [],
   "source": [
    "on_factors = pop1_dup_factor_list,\n",
    "    pop2_amplification_factors = pop2_dup_factor_list,\n",
    "    monte_carlo_trials = 1000,\n",
    "    enable_spatial_prior =  True,\n",
    "    spatial_bandwidth = 1,\n",
    "    spatial_imputation_prior_strength = None, # This could be optimized by maximizing correlation of guide with neighborhood (perhaps in binomial GLM fashion?),\n",
    "    baseline_proportion = 0.5, # TODO: Perform validation between (0,1), also accept None value for perfrming no normalization (or have that be another argument)\n",
    "    shrinkage_prior_strength = None, \n",
    "    posterior_estimator = \"mean\",\n",
    "    random_seed = 234\n",
    "    )"
   ]
  },
  {
   "cell_type": "code",
   "execution_count": null,
   "metadata": {},
   "outputs": [],
   "source": [
    "pop1_dup_factor_list is None"
   ]
  },
  {
   "cell_type": "code",
   "execution_count": null,
   "metadata": {},
   "outputs": [],
   "source": [
    "crispr_shrinkage.Guide"
   ]
  }
 ],
 "metadata": {
  "kernelspec": {
   "display_name": "crispr-shrinkage-qyTOZuOA-py3.8",
   "language": "python",
   "name": "python3"
  },
  "language_info": {
   "codemirror_mode": {
    "name": "ipython",
    "version": 3
   },
   "file_extension": ".py",
   "mimetype": "text/x-python",
   "name": "python",
   "nbconvert_exporter": "python",
   "pygments_lexer": "ipython3",
   "version": "3.8.3"
  },
  "orig_nbformat": 4,
  "vscode": {
   "interpreter": {
    "hash": "a1d6484e7fcd4f512cf3a0585d70decb3de5bf7b7a61ffb4c1eaa8355416e856"
   }
  }
 },
 "nbformat": 4,
 "nbformat_minor": 2
}
