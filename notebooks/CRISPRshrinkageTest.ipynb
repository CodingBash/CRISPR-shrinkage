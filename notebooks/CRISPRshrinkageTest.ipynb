{
 "cells": [
  {
   "cell_type": "code",
   "execution_count": 19,
   "metadata": {},
   "outputs": [
    {
     "name": "stdout",
     "output_type": "stream",
     "text": [
      "The autoreload extension is already loaded. To reload it, use:\n",
      "  %reload_ext autoreload\n"
     ]
    }
   ],
   "source": [
    "%load_ext autoreload\n",
    "%autoreload 2\n",
    "\n",
    "import sys\n",
    "sys.path.insert(1, '../crispr_shrinkage/crispr_shrinkage/framework/')\n",
    "import CrisprShrinkage as crispr_shrinkage"
   ]
  },
  {
   "cell_type": "code",
   "execution_count": 20,
   "metadata": {},
   "outputs": [],
   "source": [
    "from scipy.stats import binom\n",
    "from scipy.stats import uniform\n",
    "from scipy.stats import expon\n",
    "import numpy as np \n",
    "\n",
    "null_proportion = 0.5\n",
    "positive_proportion = 0.6\n",
    "target_null_proportion = 0.5\n",
    "target_positive_population = 0.6\n",
    "\n",
    "num_ctrl_guides = 50\n",
    "num_pos_guides = 10\n",
    "\n",
    "reps = 3\n",
    "max_dup_factor = 20\n",
    "max_guide_molecule_factor = 200\n",
    "\n",
    "pop1_dup_factor_list = np.asarray([np.round(uniform.rvs(1, max_dup_factor)) for _ in range(reps)])\n",
    "pop2_dup_factor_list = np.asarray([np.round(uniform.rvs(1, max_dup_factor)) for _ in range(reps)])\n",
    "\n",
    "#expon.rvs(loc=1, scale=1000, size=num_guides)\n",
    "#uniform.rvs(2, 200, size=num_guides)\n",
    "def get_counts(num_guides, proportion):\n",
    "    pop1_list_reps = []\n",
    "    pop2_list_reps = []\n",
    "\n",
    "    for rep_i in range(reps):\n",
    "        n_list = np.round(uniform.rvs(2, max_guide_molecule_factor, size=num_guides)).astype(int)\n",
    "        pop1_list = binom.rvs(n_list, proportion, size=num_guides) \n",
    "        pop2_list = n_list - pop1_list\n",
    "\n",
    "        pop1_list_reps.append(pop1_list * pop1_dup_factor_list[rep_i])\n",
    "        pop2_list_reps.append(pop2_list * pop2_dup_factor_list[rep_i])\n",
    "    \n",
    "    return np.asarray(pop1_list_reps), np.asarray(pop2_list_reps)\n"
   ]
  },
  {
   "cell_type": "code",
   "execution_count": 21,
   "metadata": {},
   "outputs": [],
   "source": [
    "tiling_length = 100\n",
    "\n",
    "observation_guides = []\n",
    "for position in range(tiling_length):\n",
    "    counts = get_counts(1, target_null_proportion)\n",
    "    pop1_raw_count_reps = counts[0].transpose()[0] + 1\n",
    "    pop2_raw_count_reps = counts[1].transpose()[0] + 1\n",
    "    guide = crispr_shrinkage.Guide(identifier=\"observation_{}\".format(position), position=position, pop1_raw_count_reps= pop1_raw_count_reps, pop2_raw_count_reps=pop2_raw_count_reps)\n",
    "\n",
    "    observation_guides.append(guide)\n",
    "\n",
    "observation_guides = np.asarray(observation_guides)"
   ]
  },
  {
   "cell_type": "code",
   "execution_count": 22,
   "metadata": {},
   "outputs": [],
   "source": [
    "negative_guides = []\n",
    "for i in range(num_ctrl_guides):\n",
    "    counts = get_counts(1, null_proportion)\n",
    "    pop1_raw_count_reps = counts[0].transpose()[0] + 1\n",
    "    pop2_raw_count_reps = counts[1].transpose()[0] + 1\n",
    "    guide = crispr_shrinkage.Guide(identifier=\"negative_{}\".format(i), position=None, pop1_raw_count_reps= pop1_raw_count_reps, pop2_raw_count_reps=pop2_raw_count_reps)\n",
    "\n",
    "    negative_guides.append(guide)\n",
    "\n",
    "negative_guides = np.asarray(negative_guides)"
   ]
  },
  {
   "cell_type": "code",
   "execution_count": 23,
   "metadata": {},
   "outputs": [],
   "source": [
    "positive_guides = []\n",
    "for i in range(num_pos_guides):\n",
    "    counts = get_counts(1, positive_proportion)\n",
    "    pop1_raw_count_reps = counts[0].transpose()[0] + 1\n",
    "    pop2_raw_count_reps = counts[1].transpose()[0] + 1\n",
    "    guide = crispr_shrinkage.Guide(identifier=\"positive_{}\".format(i), position=None, pop1_raw_count_reps= pop1_raw_count_reps, pop2_raw_count_reps=pop2_raw_count_reps)\n",
    "\n",
    "    positive_guides.append(guide)\n",
    "\n",
    "positive_guides = np.asarray(positive_guides)"
   ]
  },
  {
   "cell_type": "code",
   "execution_count": 24,
   "metadata": {},
   "outputs": [
    {
     "data": {
      "text/plain": [
       "Decimal('100')"
      ]
     },
     "execution_count": 24,
     "metadata": {},
     "output_type": "execute_result"
    }
   ],
   "source": [
    " from decimal import *\n",
    " getcontext().prec = 100\n",
    " Decimal(100)"
   ]
  },
  {
   "cell_type": "code",
   "execution_count": 25,
   "metadata": {},
   "outputs": [
    {
     "ename": "NameError",
     "evalue": "name 'sc' is not defined",
     "output_type": "error",
     "traceback": [
      "\u001b[1;31m---------------------------------------------------------------------------\u001b[0m",
      "\u001b[1;31mNameError\u001b[0m                                 Traceback (most recent call last)",
      "Cell \u001b[1;32mIn[25], line 1\u001b[0m\n\u001b[1;32m----> 1\u001b[0m sc\u001b[39m.\u001b[39mbeta(\u001b[39m10\u001b[39m,\u001b[39m1\u001b[39m)\n",
      "\u001b[1;31mNameError\u001b[0m: name 'sc' is not defined"
     ]
    }
   ],
   "source": [
    "sc.beta(10,1)"
   ]
  },
  {
   "cell_type": "code",
   "execution_count": null,
   "metadata": {},
   "outputs": [],
   "source": [
    "def precise_gamma(num) -> Decimal:\n",
    "    return np.exp(Decimal(sc.gammaln(num)))"
   ]
  },
  {
   "cell_type": "code",
   "execution_count": null,
   "metadata": {},
   "outputs": [],
   "source": [
    "def precise_beta(a, b):\n",
    "    return (precise_gamma(a)*precise_gamma(b))/(precise_gamma(a+b))"
   ]
  },
  {
   "cell_type": "code",
   "execution_count": null,
   "metadata": {},
   "outputs": [
    {
     "data": {
      "text/plain": [
       "0.0"
      ]
     },
     "execution_count": 1363,
     "metadata": {},
     "output_type": "execute_result"
    }
   ],
   "source": [
    "sc.beta(537, 537)/sc.beta(10, 10)"
   ]
  },
  {
   "cell_type": "code",
   "execution_count": null,
   "metadata": {},
   "outputs": [
    {
     "data": {
      "text/plain": [
       "6.98347e-319"
      ]
     },
     "execution_count": 1364,
     "metadata": {},
     "output_type": "execute_result"
    }
   ],
   "source": [
    "float(precise_beta(537, 537)/precise_beta(10, 10))"
   ]
  },
  {
   "cell_type": "code",
   "execution_count": null,
   "metadata": {},
   "outputs": [
    {
     "name": "stdout",
     "output_type": "stream",
     "text": [
      "[1. 1.]\n",
      "[1.00000001 1.        ]\n",
      "[1.         1.00000001]\n",
      "[0.99999997 1.        ]\n",
      "[0.99999998 1.        ]\n",
      "[0.99999997 1.00000001]\n",
      "[0.98298163 1.0001542 ]\n",
      "[0.98298164 1.0001542 ]\n",
      "[0.98298163 1.00015421]\n",
      "[0.89788978 1.00092519]\n",
      "[0.89788979 1.00092519]\n",
      "[0.89788978 1.0009252 ]\n",
      "[0.         1.00906067]\n",
      "[1.00000000e-08 1.00906067e+00]\n",
      "[0.         1.00906068]\n",
      "[0.44894489 1.00499293]\n",
      "[0.4489449  1.00499293]\n",
      "[0.44894489 1.00499294]\n",
      "[0.22447244 1.0070268 ]\n",
      "[0.22447245 1.0070268 ]\n",
      "[0.22447244 1.00702681]\n",
      "[0.11223622 1.00804373]\n",
      "[0.11223623 1.00804373]\n",
      "[0.11223622 1.00804374]\n",
      "[0.05611811 1.0085522 ]\n",
      "[0.05611812 1.0085522 ]\n",
      "[0.05611811 1.00855221]\n",
      "[0.02805906 1.00880643]\n",
      "[0.02805907 1.00880643]\n",
      "[0.02805906 1.00880644]\n",
      "[0.01402953 1.00893355]\n",
      "[0.01402954 1.00893355]\n",
      "[0.01402953 1.00893356]\n",
      "[0.01402952 1.00893355]\n",
      "[0.01402953 1.00893355]\n",
      "[0.01402952 1.00893356]\n",
      "[0.00942338 1.00897529]\n",
      "[0.00942339 1.00897529]\n",
      "[0.00942338 1.0089753 ]\n",
      "[0.01172646 1.00895442]\n",
      "[0.01172647 1.00895442]\n",
      "[0.01172646 1.00895443]\n",
      "[0.01172641 1.00895442]\n",
      "[0.01172642 1.00895442]\n",
      "[0.01172641 1.00895443]\n",
      "[0.01153849 1.00897411]\n",
      "[0.0115385  1.00897411]\n",
      "[0.01153849 1.00897412]\n",
      "[0.01153849 1.00897412]\n",
      "[0.0115385  1.00897412]\n",
      "[0.01153849 1.00897413]\n",
      "[0.01198219 1.14934818]\n",
      "[0.0119822  1.14934818]\n",
      "[0.01198219 1.14934819]\n",
      "[0.01420067 1.85121853]\n",
      "[0.01420068 1.85121853]\n",
      "[0.01420067 1.85121854]\n",
      "[0.01309143 1.50028336]\n",
      "[0.01309144 1.50028336]\n",
      "[0.01309143 1.50028337]\n",
      "[0.01253681 1.32481577]\n",
      "[0.01253682 1.32481577]\n",
      "[0.01253681 1.32481578]\n",
      "[0.0122595  1.23708198]\n",
      "[0.01225951 1.23708198]\n",
      "[0.0122595  1.23708199]\n",
      "[0.0122595  1.23708198]\n",
      "[0.01225951 1.23708198]\n",
      "[0.0122595  1.23708199]\n",
      "[0.0122595  1.23708203]\n",
      "[0.01225951 1.23708203]\n",
      "[0.0122595  1.23708204]\n",
      "[0.0122595  1.23708227]\n",
      "[0.01225951 1.23708227]\n",
      "[0.0122595  1.23708228]\n",
      "[0.01225955 1.23708845]\n",
      "[0.01225956 1.23708845]\n",
      "[0.01225955 1.23708846]\n",
      "[0.0122656  1.23786096]\n",
      "[0.01226561 1.23786096]\n",
      "[0.0122656  1.23786097]\n",
      "[0.01604613 1.72067708]\n",
      "[0.01604614 1.72067708]\n",
      "[0.01604613 1.72067709]\n",
      "[0.01415587 1.47926902]\n",
      "[0.01415588 1.47926902]\n",
      "[0.01415587 1.47926903]\n",
      "[0.01321073 1.35856499]\n",
      "[0.01321074 1.35856499]\n",
      "[0.01321073 1.358565  ]\n",
      "[0.01273817 1.29821298]\n",
      "[0.01273818 1.29821298]\n",
      "[0.01273817 1.29821299]\n",
      "[0.01250188 1.26803697]\n",
      "[0.01250189 1.26803697]\n",
      "[0.01250188 1.26803698]\n",
      "[0.01238374 1.25294896]\n",
      "[0.01238375 1.25294896]\n",
      "[0.01238374 1.25294897]\n",
      "[0.01238374 1.25294896]\n",
      "[0.01238375 1.25294896]\n",
      "[0.01238374 1.25294897]\n",
      "[0.01232923 1.24661718]\n",
      "[0.01232924 1.24661718]\n",
      "[0.01232923 1.24661719]\n",
      "[0.01232919 1.24661718]\n",
      "[0.0123292  1.24661718]\n",
      "[0.01232919 1.24661719]\n",
      "[0.01232891 1.24661718]\n",
      "[0.01232892 1.24661718]\n",
      "[0.01232891 1.24661719]\n"
     ]
    }
   ],
   "source": [
    "import scipy\n",
    "import functools\n",
    "nc_high = 1200\n",
    "nc_low = 1300\n",
    "k_h = 13\n",
    "k_l = 8\n",
    "\n",
    "def KL_optim(test, params):\n",
    "    nc_weight, k_weight = params \n",
    "    print(params)\n",
    "    return crispr_shrinkage.StatisticalHelperMethods.KL_beta(31.0, 26.0, (nc_weight*nc_high) + (k_weight * k_h), (nc_weight*nc_low) + (k_weight * k_l))\n",
    "\n",
    "res = scipy.optimize.minimize(functools.partial(KL_optim, \"1\"), [1, 1], method = 'TNC', bounds=((0, np.inf),(0, np.inf)))"
   ]
  },
  {
   "cell_type": "code",
   "execution_count": null,
   "metadata": {},
   "outputs": [
    {
     "data": {
      "text/plain": [
       " message: Converged (|f_n-f_(n-1)| ~= 0)\n",
       " success: True\n",
       "  status: 1\n",
       "     fun: 1.8393772746247428e-10\n",
       "       x: [ 1.233e-02  1.247e+00]\n",
       "     nit: 7\n",
       "     jac: [ 1.155e-05  8.980e-06]\n",
       "    nfev: 111"
      ]
     },
     "execution_count": 1366,
     "metadata": {},
     "output_type": "execute_result"
    }
   ],
   "source": [
    "res"
   ]
  },
  {
   "cell_type": "code",
   "execution_count": null,
   "metadata": {},
   "outputs": [
    {
     "name": "stdout",
     "output_type": "stream",
     "text": [
      "[0.01232891 1.24661718]\n"
     ]
    },
    {
     "data": {
      "text/plain": [
       "1.8393772746247428e-10"
      ]
     },
     "execution_count": 1367,
     "metadata": {},
     "output_type": "execute_result"
    }
   ],
   "source": [
    "KL_optim(\"1\", res.x)"
   ]
  },
  {
   "cell_type": "code",
   "execution_count": null,
   "metadata": {},
   "outputs": [
    {
     "data": {
      "text/plain": [
       "2.53971408061148"
      ]
     },
     "execution_count": 1368,
     "metadata": {},
     "output_type": "execute_result"
    }
   ],
   "source": [
    "crispr_shrinkage.StatisticalHelperMethods.KL_beta(31.0, 26.0, 24, 36)"
   ]
  },
  {
   "cell_type": "code",
   "execution_count": null,
   "metadata": {},
   "outputs": [],
   "source": [
    "alpha_f, beta_f, alpha_g, beta_g = (31.0, 26.076923076923077, 310, 260)"
   ]
  },
  {
   "cell_type": "code",
   "execution_count": null,
   "metadata": {},
   "outputs": [
    {
     "data": {
      "text/plain": [
       "Decimal('-354.7024313268700765888752357568591833114624023437500000000000000000000000000000000000000000000000000')"
      ]
     },
     "execution_count": 1370,
     "metadata": {},
     "output_type": "execute_result"
    }
   ],
   "source": [
    "Decimal.ln(crispr_shrinkage.StatisticalHelperMethods.precise_beta(alpha_g, beta_g)/(crispr_shrinkage.StatisticalHelperMethods.precise_beta(alpha_f, beta_f)))"
   ]
  },
  {
   "cell_type": "code",
   "execution_count": null,
   "metadata": {},
   "outputs": [],
   "source": []
  },
  {
   "cell_type": "code",
   "execution_count": 26,
   "metadata": {},
   "outputs": [
    {
     "name": "stdout",
     "output_type": "stream",
     "text": [
      "Optimizing shrinkage prior weights\n",
      "[1.e-06]\n",
      "14.720570491436103\n",
      " \n",
      "[1.01e-06]\n",
      "14.720531805179121\n",
      " \n",
      "[1.000001]\n",
      "3.657463522184179\n",
      " \n",
      "[1.00000101]\n",
      "3.6574634740048353\n",
      " \n",
      "[1.00124794]\n",
      "3.651458402106278\n",
      " \n",
      "[1.00124795]\n",
      "3.6514583539679846\n",
      " \n",
      "[1.0062357]\n",
      "3.62748904752479\n",
      " \n",
      "[1.00623571]\n",
      "3.627488999550599\n",
      " \n",
      "[1.02618673]\n",
      "3.532436202031569\n",
      " \n",
      "[1.02618674]\n",
      "3.5324361547215464\n",
      " \n",
      "[1.10599085]\n",
      "3.165787153000016\n",
      " \n",
      "[1.10599086]\n",
      "3.1657871084464384\n",
      " \n",
      "[1.42520736]\n",
      "1.928533637623031\n",
      " \n",
      "[1.42520737]\n",
      "1.9285336046811485\n",
      " \n",
      "[2.34446142]\n",
      "0.1929528134522962\n",
      " \n",
      "[2.34446143]\n",
      "0.1929528057883434\n",
      " \n",
      "[2.62316777]\n",
      "0.043675915617358285\n",
      " \n",
      "[2.62316778]\n",
      "0.04367591235138746\n",
      " \n",
      "[2.83013698]\n",
      "0.0028943119091573433\n",
      " \n",
      "[2.83013699]\n",
      "0.0028943111354928774\n",
      " \n",
      "[2.89438458]\n",
      "6.715568995896426e-05\n",
      " \n",
      "[2.89438459]\n",
      "6.715557515080128e-05\n",
      " \n",
      "[2.90557997]\n",
      "1.3569084189590797e-07\n",
      " \n",
      "[2.90557998]\n",
      "1.356857126655342e-07\n",
      " \n",
      "[2.90610353]\n",
      "1.0308420783644578e-11\n",
      " \n",
      "[2.90610354]\n",
      "1.0291767438275201e-11\n",
      " \n",
      "[1.e-06]\n",
      "20.61283168633754\n",
      " \n",
      "[1.01e-06]\n",
      "20.612818977881236\n",
      " \n",
      "[1.000001]\n",
      "18.890820661090135\n",
      " \n",
      "[1.00000101]\n",
      "18.890820496047255\n",
      " \n",
      "[1.01315873]\n",
      "18.674749444378758\n",
      " \n",
      "[1.01315874]\n",
      "18.67474928099282\n",
      " \n",
      "[1.06578966]\n",
      "17.83260510127853\n",
      " \n",
      "[1.06578967]\n",
      "17.832604944680163\n",
      " \n",
      "[1.27631339]\n",
      "14.825334108026977\n",
      " \n",
      "[1.2763134]\n",
      "14.825333978675214\n",
      " \n",
      "[2.27772486]\n",
      "6.556624045746645\n",
      " \n",
      "[2.27772487]\n",
      "6.556623996333405\n",
      " \n",
      "[2.89673786]\n",
      "4.194668021789033\n",
      " \n",
      "[2.89673787]\n",
      "4.194667992748763\n",
      " \n",
      "[3.77909838]\n",
      "2.3448399813100265\n",
      " \n",
      "[3.77909839]\n",
      "2.34483996653293\n",
      " \n",
      "[4.69325165]\n",
      "1.3457141543928408\n",
      " \n",
      "[4.69325166]\n",
      "1.3457141464848\n",
      " \n",
      "[5.74567602]\n",
      "0.7379852555588373\n",
      " \n",
      "[5.74567603]\n",
      "0.7379852514510232\n",
      " \n",
      "[6.88328277]\n",
      "0.39646942765256266\n",
      " \n",
      "[6.88328278]\n",
      "0.3964694255202017\n",
      " \n",
      "[8.11124822]\n",
      "0.20604257736571707\n",
      " \n",
      "[8.11124823]\n",
      "0.20604257627352407\n",
      " \n",
      "[9.40063138]\n",
      "0.10393962877084939\n",
      " \n",
      "[9.40063139]\n",
      "0.10393962821675928\n",
      " \n",
      "[10.72832252]\n",
      "0.05080632042457345\n",
      " \n",
      "[10.72832253]\n",
      "0.05080632014669573\n",
      " \n",
      "[12.06401856]\n",
      "0.024098524719373682\n",
      " \n",
      "[12.06401857]\n",
      "0.024098524581550596\n",
      " \n",
      "[13.3784324]\n",
      "0.011115121959504037\n",
      " \n",
      "[13.37843241]\n",
      "0.011115121891958069\n",
      " \n",
      "[14.64176475]\n",
      "0.005016292993670346\n",
      " \n",
      "[14.64176476]\n",
      "0.005016292960829949\n",
      " \n",
      "[15.83720209]\n",
      "0.002225557088586516\n",
      " \n",
      "[15.8372021]\n",
      "0.0022255570728824114\n",
      " \n",
      "[16.93272921]\n",
      "0.0009965200333250657\n",
      " \n",
      "[16.93272922]\n",
      "0.0009965200257977536\n",
      " \n",
      "[17.9412389]\n",
      "0.0004542652640215916\n",
      " \n",
      "[17.94123891]\n",
      "0.00045426526047442906\n",
      " \n",
      "[18.84003623]\n",
      "0.00022235341149978716\n",
      " \n",
      "[18.84003624]\n",
      "0.0002223534097511859\n",
      " \n",
      "[19.71386698]\n",
      "0.00011582216395966682\n",
      " \n",
      "[19.71386699]\n",
      "0.00011582216317695959\n",
      " \n",
      "[20.42197121]\n",
      "7.544535896020221e-05\n",
      " \n",
      "[20.42197122]\n",
      "7.544535854386858e-05\n",
      " \n",
      "[21.2266351]\n",
      "5.67750130076039e-05\n",
      " \n",
      "[21.22663511]\n",
      "5.6775012924337176e-05\n",
      " \n",
      "[1.e-06]\n",
      "4.202199432555171\n",
      " \n",
      "[1.01e-06]\n",
      "4.2021989165620885\n",
      " \n",
      "[1.000001]\n",
      "0.008771935197332548\n",
      " \n",
      "[1.00000101]\n",
      "0.008771931752821205\n",
      " \n",
      "[1.00672136]\n",
      "0.006619009407055065\n",
      " \n",
      "[1.00672137]\n",
      "0.006619006442276643\n",
      " \n",
      "[1.0482536]\n",
      "6.0344185398575334e-05\n",
      " \n",
      "[1.04825361]\n",
      "6.034391766274183e-05\n",
      " \n",
      "[1.05237651]\n",
      "4.66689120681707e-07\n",
      " \n",
      "[1.05237652]\n",
      "4.6666565611808153e-07\n",
      " \n",
      "[1.05277255]\n",
      "2.1066481892262345e-11\n",
      " \n",
      "[1.05277256]\n",
      "2.0933255129307327e-11\n",
      " \n",
      "[1.05277481]\n",
      "5.495603971894525e-13\n",
      " \n",
      "[1.05277482]\n",
      "4.829470157119431e-13\n",
      " \n",
      "Selected shrinkage weights: [ 2.90610353 21.2266351   1.05277481]\n"
     ]
    }
   ],
   "source": [
    "# LEFTOFF - just modifed result to return each guide set separately. So should be able to plot by position and verify that the shrinkage and all works well. Very interested to see if the negatiev controls are over shrunk. and positive controls. since they dont have position.\n",
    "results = CrisprShrinkage.perform_adjustment(\n",
    "    negative_control_guides = negative_guides,\n",
    "    positive_control_guides = positive_guides,\n",
    "    observation_guides = observation_guides,\n",
    "    num_replicates = reps,\n",
    "    include_observational_guides_in_fit = True,\n",
    "    include_positive_control_guides_in_fit = False,\n",
    "    pop1_amplification_factors = pop1_dup_factor_list,\n",
    "    pop2_amplification_factors = pop2_dup_factor_list,\n",
    "    monte_carlo_trials = 1000,\n",
    "    enable_spatial_prior =  True,\n",
    "    spatial_bandwidth = 3,\n",
    "    spatial_imputation_model_weights = (np.asarray([3.24175049e-03, 3.32948554e-03, 1.00000000e-06]), np.asarray([2.34012001e-01, 1.00000000e-06, 4.83614514e-02])), # This could be optimized by maximizing correlation of guide with neighborhood (perhaps in binomial GLM fashion?),\n",
    "    baseline_proportion = 0.5, # TODO: Perform validation between (0,1), also accept None value for perfrming no normalization (or have that be another argument)\n",
    "    shrinkage_prior_strength = None, \n",
    "    posterior_estimator = \"mean\",\n",
    "    random_seed = 234\n",
    "    )"
   ]
  },
  {
   "cell_type": "code",
   "execution_count": 28,
   "metadata": {},
   "outputs": [],
   "source": [
    "lfc = [guide.final_LFC_estimate for guide in results]\n"
   ]
  },
  {
   "cell_type": "code",
   "execution_count": 30,
   "metadata": {},
   "outputs": [
    {
     "data": {
      "text/plain": [
       "(array([ 1.,  0.,  1.,  2., 18., 28., 82., 21.,  4.,  3.]),\n",
       " array([-0.21449637, -0.1804281 , -0.14635982, -0.11229154, -0.07822326,\n",
       "        -0.04415498, -0.0100867 ,  0.02398157,  0.05804985,  0.09211813,\n",
       "         0.12618641]),\n",
       " <BarContainer object of 10 artists>)"
      ]
     },
     "execution_count": 30,
     "metadata": {},
     "output_type": "execute_result"
    },
    {
     "data": {
      "image/png": "[encoded data removed]",
      "text/plain": [
       "<Figure size 640x480 with 1 Axes>"
      ]
     },
     "metadata": {},
     "output_type": "display_data"
    }
   ],
   "source": [
    "import matplotlib.pyplot as plt\n",
    "plt.hist(lfc)"
   ]
  },
  {
   "cell_type": "code",
   "execution_count": null,
   "metadata": {},
   "outputs": [],
   "source": [
    "pop1_dup_factor_list is None"
   ]
  },
  {
   "cell_type": "code",
   "execution_count": null,
   "metadata": {},
   "outputs": [],
   "source": [
    "crispr_shrinkage.Guide"
   ]
  }
 ],
 "metadata": {
  "kernelspec": {
   "display_name": "crispr-shrinkage-qyTOZuOA-py3.8",
   "language": "python",
   "name": "python3"
  },
  "language_info": {
   "codemirror_mode": {
    "name": "ipython",
    "version": 3
   },
   "file_extension": ".py",
   "mimetype": "text/x-python",
   "name": "python",
   "nbconvert_exporter": "python",
   "pygments_lexer": "ipython3",
   "version": "3.8.3"
  },
  "orig_nbformat": 4,
  "vscode": {
   "interpreter": {
    "hash": "a1d6484e7fcd4f512cf3a0585d70decb3de5bf7b7a61ffb4c1eaa8355416e856"
   }
  }
 },
 "nbformat": 4,
 "nbformat_minor": 2
}
